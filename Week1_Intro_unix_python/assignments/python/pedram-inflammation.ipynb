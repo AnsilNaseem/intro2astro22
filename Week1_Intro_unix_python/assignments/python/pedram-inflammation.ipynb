{
 "cells": [
  {
   "cell_type": "markdown",
   "id": "61fd23b5",
   "metadata": {},
   "source": [
    "## Original workshop\n",
    "* https://swcarpentry.github.io/python-novice-inflammation\n",
    "\n",
    "## Download the data\n",
    "Here is the link to [inflammation-01.csv](https://github.com/swcarpentry/python-novice-inflammation/blob/gh-pages/data/inflammation-01.csv)"
   ]
  },
  {
   "cell_type": "code",
   "execution_count": null,
   "id": "366ae4c3",
   "metadata": {},
   "outputs": [],
   "source": [
    "import numpy as np\n",
    "import matplotlib.pyplot as plt\n",
    "\n",
    "data = np.loadtxt('inflammation-01.csv', delimiter=',')"
   ]
  },
  {
   "cell_type": "code",
   "execution_count": null,
   "id": "449cfe6d",
   "metadata": {},
   "outputs": [],
   "source": [
    "image = plt.imshow(data)"
   ]
  },
  {
   "cell_type": "code",
   "execution_count": null,
   "id": "3baa05d6",
   "metadata": {},
   "outputs": [],
   "source": [
    "plt.plot(np.mean(data, axis=0))\n",
    "plt.show()\n",
    "plt.plot(np.max(data, axis=0))\n",
    "plt.show()\n",
    "plt.plot(np.min(data, axis=0))\n",
    "plt.show()"
   ]
  },
  {
   "cell_type": "markdown",
   "id": "e1550216",
   "metadata": {},
   "source": [
    "## Group plots"
   ]
  },
  {
   "cell_type": "code",
   "execution_count": null,
   "id": "46dbd5eb",
   "metadata": {},
   "outputs": [],
   "source": [
    "maxd = np.max(data, axis=0)\n",
    "mind = np.min(data, axis=0)\n",
    "avgd = np.mean(data, axis=0)\n",
    "\n",
    "data_min, data_max = np.min(data), np.max(data)\n",
    "fig = plt.figure(figsize=(15.0,8.0))\n",
    "\n",
    "sub1 = fig.add_subplot(2,2,1)\n",
    "sub2 = fig.add_subplot(2,2,2)\n",
    "sub3 = fig.add_subplot(2,2,3)\n",
    "sub4 = fig.add_subplot(2,2,4)\n",
    "\n",
    "sub1.set_ylabel('avg')\n",
    "sub1.plot(np.mean(data, axis=0), drawstyle='steps-mid')\n",
    "\n",
    "sub2.set_ylabel('max')\n",
    "sub2.plot(np.max(data, axis=0), drawstyle='steps-mid')\n",
    "\n",
    "sub3.set_ylabel('min')\n",
    "sub3.plot(np.min(data, axis=0), drawstyle='steps-mid')\n",
    "\n",
    "sub4.set_ylabel('std')\n",
    "sub4.plot(np.std(data, axis=0))\n",
    "\n",
    "fig.tight_layout()\n",
    "plt.savefig('inflammation-01.pdf')\n",
    "plt.show()"
   ]
  },
  {
   "cell_type": "code",
   "execution_count": null,
   "id": "8a257397",
   "metadata": {},
   "outputs": [],
   "source": []
  }
 ],
 "metadata": {
  "kernelspec": {
   "display_name": "intro2astro",
   "language": "python",
   "name": "intro2astro"
  },
  "language_info": {
   "codemirror_mode": {
    "name": "ipython",
    "version": 3
   },
   "file_extension": ".py",
   "mimetype": "text/x-python",
   "name": "python",
   "nbconvert_exporter": "python",
   "pygments_lexer": "ipython3",
   "version": "3.10.5"
  }
 },
 "nbformat": 4,
 "nbformat_minor": 5
}
