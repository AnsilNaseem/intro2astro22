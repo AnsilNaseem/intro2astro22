{
 "cells": [
  {
   "cell_type": "markdown",
   "id": "fb8bded5",
   "metadata": {},
   "source": [
    "## Readme\n",
    "\n",
    "This file was originally downloaded from Howard Isaacson's [Intro-to-Astro2022](https://github.com/howardisaacson/Intro-to-Astro2022) github repository as a part of **Introduction to Astronomy Research 2022** workshop.\n",
    "\n",
    "The following software is [Pedram Ashofteh Ardakani](https://pedramardakani.wordpress.com)'s answers to week#1 assignments.\n",
    "\n",
    "Also, I tried using a `python virtual environment` instead of installing `conda`. You can find the instructions [here](https://stackoverflow.com/a/72657392/6474744)."
   ]
  },
  {
   "cell_type": "markdown",
   "id": "8704542c",
   "metadata": {},
   "source": [
    "\n",
    "## The MIT License (MIT)\n",
    "\n",
    "Copyright © 2022 Pedram Ashofteh Ardakani <pedramardakani@pm.me>\n",
    "\n",
    "Permission is hereby granted, free of charge, to any person obtaining a copy of this software and associated documentation files (the “Software”), to deal in the Software without restriction, including without limitation the rights to use, copy, modify, merge, publish, distribute, sublicense, and/or sell copies of the Software, and to permit persons to whom the Software is furnished to do so, subject to the following conditions:\n",
    "\n",
    "The above copyright notice and this permission notice shall be included in all copies or substantial portions of the Software.\n",
    "\n",
    "THE SOFTWARE IS PROVIDED “AS IS”, WITHOUT WARRANTY OF ANY KIND, EXPRESS OR IMPLIED, INCLUDING BUT NOT LIMITED TO THE WARRANTIES OF MERCHANTABILITY, FITNESS FOR A PARTICULAR PURPOSE AND NONINFRINGEMENT. IN NO EVENT SHALL THE AUTHORS OR COPYRIGHT HOLDERS BE LIABLE FOR ANY CLAIM, DAMAGES OR OTHER LIABILITY, WHETHER IN AN ACTION OF CONTRACT, TORT OR OTHERWISE, ARISING FROM, OUT OF OR IN CONNECTION WITH THE SOFTWARE OR THE USE OR OTHER DEALINGS IN THE SOFTWARE.\n"
   ]
  },
  {
   "cell_type": "markdown",
   "id": "594f180e",
   "metadata": {},
   "source": [
    "## Preparation: import packages, set up the data directory"
   ]
  },
  {
   "cell_type": "code",
   "execution_count": null,
   "id": "393b1e5b-9c72-4487-a84d-d69ba28f6753",
   "metadata": {},
   "outputs": [],
   "source": [
    "import numpy as np\n",
    "from os.path import join\n",
    "from astropy.io import fits\n",
    "import matplotlib.pyplot as plt\n",
    "\n",
    "data_dir = '../../data/'"
   ]
  },
  {
   "cell_type": "markdown",
   "id": "98bc570f",
   "metadata": {},
   "source": [
    "### Assignment#1: repeat the procedure as demonstrated in the workshop"
   ]
  },
  {
   "cell_type": "markdown",
   "id": "b8bb4856",
   "metadata": {},
   "source": [
    "It is the same as assignments#2, but there is just an additional `save plot` task at the end. So please see the next assignment."
   ]
  },
  {
   "cell_type": "markdown",
   "id": "b89d59e6-af02-462d-b76d-82d59cca2560",
   "metadata": {},
   "source": [
    "### Assignment#2: load the data, plot, and save to file"
   ]
  },
  {
   "cell_type": "code",
   "execution_count": null,
   "id": "1b857d29-e0d6-42ec-8fe4-4e96a0dcbaa3",
   "metadata": {},
   "outputs": [],
   "source": [
    "# Sample plot\n",
    "a = np.linspace(-100,100,1000) #to create an array\n",
    "b = 2*a**2 + 5\n",
    "plt.plot(a,b,'-k')\n",
    "plt.show()\n",
    "\n",
    "# Save the figure as pdf\n",
    "plt.savefig(\"plot_sample.pdf\", bbox_inches='tight')"
   ]
  },
  {
   "cell_type": "code",
   "execution_count": null,
   "id": "ce4a015e-38a4-4930-b3fd-c14be2c72751",
   "metadata": {},
   "outputs": [],
   "source": [
    "# Load, alter, and save the new plot\n",
    "\n",
    "img_name = 'pdi_pi_collapsed.fits'\n",
    "img_path = join(data_dir, img_name)\n",
    "img = fits.getdata(img_path,ext=1)\n",
    "\n",
    "# Create a figure\n",
    "fig = plt.figure(figsize=(8,8))\n",
    "\n",
    "# Plot the figure\n",
    "image = plt.imshow(img, origin = 'lower', vmin=-0.001, vmax=0.01)\n",
    "cbar = fig.colorbar(image,shrink=0.82)\n",
    "cbar.set_label('Surface Brightness (arb. units)', rotation=90,fontsize=12)\n",
    "plt.xlim([60,140])\n",
    "plt.ylim([60,140])\n",
    "plt.xlabel(r'$\\Delta$ RA [px]',fontsize=12)\n",
    "plt.ylabel(r'$\\Delta$ Dec [px]',fontsize=12);\n",
    "\n",
    "# Save the figure as pdf\n",
    "plt.savefig(\"plot_pdi_pi_collapsed.pdf\", bbox_inches='tight')"
   ]
  },
  {
   "cell_type": "code",
   "execution_count": null,
   "id": "22f48c65-9f41-4224-8336-fde1af22af09",
   "metadata": {},
   "outputs": [],
   "source": [
    "import pandas as pd\n",
    "\n",
    "stellar_name = 'closest20kstars.csv'\n",
    "stellar_path = join(data_dir, stellar_name)\n",
    "\n",
    "# Reading 20,000 Rows*97 columns of Data- Closest 20k stars from Gaia Archive (DR2)\n",
    "stellar=pd.read_csv(stellar_path)\n",
    "\n",
    "# Creating a matplotlib (pyplot) figure\n",
    "fig = plt.figure(figsize = [10,10])\n",
    "\n",
    "# Plotting the scatter graph with RA on x-axis and Dec on y-axis. alpha tells the opacity, s is the size\n",
    "plt.scatter(stellar['ra'], stellar['dec'], alpha=0.8, s=12, lw = 0.5, ec = 'k', color='darkorchid')\n",
    "\n",
    "# Adding labels and a title for the figure\n",
    "plt.xlim([0,362])\n",
    "plt.ylim([-75,75])\n",
    "plt.xlabel('RA [$\\degree$]', fontsize = 14)\n",
    "plt.ylabel('Dec [$\\degree$]', fontsize = 14)\n",
    "plt.title('Closest Stars 20,000 stars from Gaia Archive (DR2)', fontsize = 16)\n",
    "\n",
    "# Save the figure as pdf\n",
    "plt.savefig(\"plot_closest20kstars.pdf\", bbox_inches='tight')"
   ]
  },
  {
   "cell_type": "markdown",
   "id": "d72e8d25",
   "metadata": {},
   "source": [
    "### Assignment#3: the Fibonacci Sequence ([Wikipedia](https://en.wikipedia.org/wiki/Fibonacci_number))\n",
    "\n",
    "In mathematics, the Fibonacci numbers, commonly denoted Fn , form a sequence, the Fibonacci sequence, in which each number is the sum of the two preceding ones. The sequence commonly starts from 0 and 1, although some authors omit the initial terms and start the sequence from 1 and 1 or from 1 and 2. Starting from 0 and 1, the next few values in the sequence are:\n",
    "\n",
    "    0, 1, 1, 2, 3, 5, 8, 13, 21, 34, 55, 89, 144, ..."
   ]
  },
  {
   "cell_type": "code",
   "execution_count": 2,
   "id": "8412c6d1",
   "metadata": {},
   "outputs": [
    {
     "name": "stdout",
     "output_type": "stream",
     "text": [
      "0 1 1 2 3 5 8 13 21 34 55 89 144 233 377 610 987 1597 2584 4181 6765 10946 "
     ]
    }
   ],
   "source": [
    "# Print until the nth Fibonacci number\n",
    "n = 20\n",
    "\n",
    "# This array holds the last two numbers\n",
    "fib_arr = [0,1]\n",
    "\n",
    "# Print the first two numbers\n",
    "print(*fib_arr, end=' ')\n",
    "for i in range(1, n+1):\n",
    "    # Add the last two numbers\n",
    "    new = sum(fib_arr)\n",
    "    print(new, end=' ')\n",
    "    \n",
    "    # Pop out the first number, and push the new number at the end\n",
    "    fib_arr.pop(0)\n",
    "    fib_arr.append(new)"
   ]
  }
 ],
 "metadata": {
  "kernelspec": {
   "display_name": "intro2astro",
   "language": "python",
   "name": "intro2astro"
  },
  "language_info": {
   "codemirror_mode": {
    "name": "ipython",
    "version": 3
   },
   "file_extension": ".py",
   "mimetype": "text/x-python",
   "name": "python",
   "nbconvert_exporter": "python",
   "pygments_lexer": "ipython3",
   "version": "3.10.5"
  }
 },
 "nbformat": 4,
 "nbformat_minor": 5
}
